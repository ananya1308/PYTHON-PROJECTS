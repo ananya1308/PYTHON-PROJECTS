{
 "cells": [
  {
   "cell_type": "code",
   "execution_count": 1,
   "id": "675321ca",
   "metadata": {},
   "outputs": [],
   "source": [
    "name = ''\n",
    "age = 0\n",
    "gender = ''\n",
    "height = 0\n",
    "weight = 0\n",
    "def takePersonalInput():\n",
    "    print(\"Enter your personal details:- \")\n",
    "    name = input(\"Enter name - \")\n",
    "    age = int(input(\"Enter age - \"))\n",
    "    gender = input(\"Enter gender(M/F) - \")\n",
    "    height = float(input(\"Enter height (in meters) - \"))\n",
    "    weight = float(input(\"Enter weight (in kg) - \"))\n",
    "    return(name,age,gender,height,weight)\n",
    "    "
   ]
  },
  {
   "cell_type": "code",
   "execution_count": 2,
   "id": "1ef5ad76",
   "metadata": {},
   "outputs": [],
   "source": [
    "milk = 0\n",
    "meat = 0\n",
    "lentils = 0\n",
    "vegetables = 0\n",
    "egg = 0\n",
    "rice = 0\n",
    "def takeFoodConsumptionInput():\n",
    "    print(\"Enter your food consumpton input:- \")\n",
    "    milk = int(input('Milk: '))\n",
    "    meat = int(input('Meat: '))\n",
    "    lentils = int(input('Lentils: '))\n",
    "    vegetables = int(input('Vegetables: '))\n",
    "    egg = int(input('Egg: '))\n",
    "    rice = int(input('Rice: '))\n",
    "    return(milk,meat,lentils,vegetables,egg,rice)"
   ]
  },
  {
   "cell_type": "code",
   "execution_count": 3,
   "id": "553dfe3b",
   "metadata": {},
   "outputs": [],
   "source": [
    "def calculateTotalCalories(milk,meat,lentils,vegetables,egg,rice):\n",
    "    totalCalories = 0\n",
    "    totalCalories += (100/100)*milk   #totalCalories = totalCalories+(100/100)*milk\n",
    "    totalCalories += (143/100)*meat\n",
    "    totalCalories += (113/100)*lentils\n",
    "    totalCalories += (85/100)*vegetables\n",
    "    totalCalories += (155/100)*egg\n",
    "    totalCalories += (130/100)*rice\n",
    "    return totalCalories"
   ]
  },
  {
   "cell_type": "code",
   "execution_count": 4,
   "id": "3cfac40f",
   "metadata": {},
   "outputs": [],
   "source": [
    "def getBMIValue(weight, height):\n",
    "    return weight/(height*height)"
   ]
  },
  {
   "cell_type": "code",
   "execution_count": 5,
   "id": "a3a763bb",
   "metadata": {},
   "outputs": [
    {
     "name": "stdout",
     "output_type": "stream",
     "text": [
      "Enter your personal details:- \n",
      "Enter name - ananya\n",
      "Enter age - 4\n",
      "Enter gender(M/F) - F\n",
      "Enter height (in meters) - 45\n",
      "Enter weight (in kg) - 3.4\n",
      "Enter your food consumpton input:- \n",
      "Milk: 200\n",
      "Meat: 300\n",
      "Lentils: 100\n",
      "Vegetables: 500\n",
      "Egg: 400\n",
      "Rice: 600\n",
      "BMI is 0.0016790123456790122 -> Severely Underweight\n",
      "Person is not undernourished\n"
     ]
    }
   ],
   "source": [
    "#TRIAL PIECE OF CODE......\n",
    "\n",
    "#TAKEPERSONALINPUTFIRST......\n",
    "name,age,gender,height,weight = takePersonalInput()\n",
    "#TAKEFOODCONSUMPTIONINPUT......\n",
    "milk, meat,lentils,vegetables,egg,rice = takeFoodConsumptionInput() \n",
    "\n",
    "bmiValue = getBMIValue(weight, height)\n",
    "totalCalories = calculateTotalCalories(milk,meat,lentils,vegetables,egg,rice)\n",
    "\n",
    "if(bmiValue<16):\n",
    "    print(\"BMI is \" +str(bmiValue)+ \" -> Severely Underweight\")\n",
    "elif (bmiValue>=16) and (bmiValue<18.5):\n",
    "  print(\"BMI is \" +str(bmiValue)+ \" -> Underweight\")\n",
    "elif (bmiValue>=18.5) and (bmiValue<25):\n",
    "  print(\"BMI is \" +str(bmiValue)+ \" -> Healthy\")\n",
    "elif (bmiValue>=25) and (bmiValue<30):  \n",
    "  print(\"BMI is \" +str(bmiValue)+ \" -> Overweight\")\n",
    "elif (bmiValue>=30):\n",
    " print(\"BMI is \" +str(bmiValue)+ \" -> Obese\")\n",
    "\n",
    "# undernourished or notundernourished\n",
    "if age>=0 and age<2:\n",
    "    if totalCalories>=800:\n",
    "        print('Person is not undernourished')\n",
    "    else:\n",
    "         print('Person is undernourished')\n",
    "elif age>=2 and age<4:\n",
    "    if totalCalories>=1400:\n",
    "         print('Person is not undernourished')\n",
    "    else:\n",
    "            print('Person is undernourished')\n",
    "elif age>=4 and age<8:\n",
    "    if totalCalories>=1800:\n",
    "         print('Person is not undernourished')\n",
    "    else:\n",
    "           print('Person is undernourished')\n",
    "            \n"
   ]
  }
 ],
 "metadata": {
  "kernelspec": {
   "display_name": "Python 3 (ipykernel)",
   "language": "python",
   "name": "python3"
  },
  "language_info": {
   "codemirror_mode": {
    "name": "ipython",
    "version": 3
   },
   "file_extension": ".py",
   "mimetype": "text/x-python",
   "name": "python",
   "nbconvert_exporter": "python",
   "pygments_lexer": "ipython3",
   "version": "3.9.7"
  }
 },
 "nbformat": 4,
 "nbformat_minor": 5
}
