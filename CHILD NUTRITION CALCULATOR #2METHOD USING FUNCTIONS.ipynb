{
 "cells": [
  {
   "cell_type": "code",
   "execution_count": 1,
   "id": "a2135bba",
   "metadata": {},
   "outputs": [],
   "source": [
    "name = ''\n",
    "age = 0\n",
    "gender = ''\n",
    "height = 0\n",
    "weight = 0\n",
    "def takePersonalInput():\n",
    "    print(\"Enter your personal details:- \")\n",
    "    name = input(\"Enter name - \")\n",
    "    age = int(input(\"Enter age - \"))\n",
    "    gender = input(\"Enter gender(M/F) - \")\n",
    "    height = float(input(\"Enter height (in meters) - \"))\n",
    "    weight = float(input(\"Enter weight (in kg) - \"))\n",
    "    return(name,age,gender,height,weight)\n",
    "    "
   ]
  },
  {
   "cell_type": "code",
   "execution_count": 2,
   "id": "bd1eeb0f",
   "metadata": {},
   "outputs": [],
   "source": [
    "milk = 0\n",
    "meat = 0\n",
    "lentils = 0\n",
    "vegetables = 0\n",
    "egg = 0\n",
    "rice = 0\n",
    "def takeFoodConsumptionInput():\n",
    "    print(\"Enter your food consumpton input:- \")\n",
    "    milk = int(input('Milk: '))\n",
    "    meat = int(input('Meat: '))\n",
    "    lentils = int(input('Lentils: '))\n",
    "    vegetables = int(input('Vegetables: '))\n",
    "    egg = int(input('Egg: '))\n",
    "    rice = int(input('Rice: '))\n",
    "    return(milk,meat,lentils,vegetables,egg,rice)"
   ]
  },
  {
   "cell_type": "code",
   "execution_count": 3,
   "id": "b9f42b7a",
   "metadata": {},
   "outputs": [],
   "source": [
    "def calculateTotalCalories(milk,meat,lentils,vegetables,egg,rice):\n",
    "    totalCalories = 0\n",
    "    totalCalories += (100/100)*milk   #totalCalories = totalCalories+(100/100)*milk\n",
    "    totalCalories += (143/100)*meat\n",
    "    totalCalories += (113/100)*lentils\n",
    "    totalCalories += (85/100)*vegetables\n",
    "    totalCalories += (155/100)*egg\n",
    "    totalCalories += (130/100)*rice\n",
    "    return totalCalories"
   ]
  },
  {
   "cell_type": "code",
   "execution_count": 4,
   "id": "c34409d0",
   "metadata": {},
   "outputs": [],
   "source": [
    "def getBMIValue(weight, height):\n",
    "    return weight/(height*height)"
   ]
  },
  {
   "cell_type": "code",
   "execution_count": 5,
   "id": "288ba086",
   "metadata": {},
   "outputs": [
    {
     "name": "stdout",
     "output_type": "stream",
     "text": [
      "Enter your personal details:- \n",
      "Enter name - ananya\n",
      "Enter age - 3\n",
      "Enter gender(M/F) - M\n",
      "Enter height (in meters) - 4.3\n",
      "Enter weight (in kg) - 34\n",
      "Enter your food consumpton input:- \n",
      "Milk: 100\n",
      "Meat: 200\n",
      "Lentils: 100\n",
      "Vegetables: 200\n",
      "Egg: 300\n",
      "Rice: 200\n"
     ]
    },
    {
     "ename": "TypeError",
     "evalue": "can only concatenate str (not \"float\") to str",
     "output_type": "error",
     "traceback": [
      "\u001b[1;31m---------------------------------------------------------------------------\u001b[0m",
      "\u001b[1;31mTypeError\u001b[0m                                 Traceback (most recent call last)",
      "\u001b[1;32mC:\\Users\\ANANYA~1\\AppData\\Local\\Temp/ipykernel_16124/3839903713.py\u001b[0m in \u001b[0;36m<module>\u001b[1;34m\u001b[0m\n\u001b[0;32m     10\u001b[0m \u001b[1;33m\u001b[0m\u001b[0m\n\u001b[0;32m     11\u001b[0m \u001b[1;32mif\u001b[0m\u001b[1;33m(\u001b[0m\u001b[0mbmiValue\u001b[0m\u001b[1;33m<\u001b[0m\u001b[1;36m16\u001b[0m\u001b[1;33m)\u001b[0m\u001b[1;33m:\u001b[0m\u001b[1;33m\u001b[0m\u001b[1;33m\u001b[0m\u001b[0m\n\u001b[1;32m---> 12\u001b[1;33m     \u001b[0mprint\u001b[0m\u001b[1;33m(\u001b[0m\u001b[1;34m\"BMI is \"\u001b[0m \u001b[1;33m+\u001b[0m\u001b[0mbmiValue\u001b[0m\u001b[1;33m+\u001b[0m \u001b[1;34m\" -> Severely Underweight\"\u001b[0m\u001b[1;33m)\u001b[0m\u001b[1;33m\u001b[0m\u001b[1;33m\u001b[0m\u001b[0m\n\u001b[0m\u001b[0;32m     13\u001b[0m \u001b[1;32melif\u001b[0m \u001b[0mBMI\u001b[0m\u001b[1;33m>=\u001b[0m\u001b[1;36m16\u001b[0m \u001b[1;32mand\u001b[0m \u001b[0mBMI\u001b[0m\u001b[1;33m<\u001b[0m\u001b[1;36m18.5\u001b[0m\u001b[1;33m:\u001b[0m\u001b[1;33m\u001b[0m\u001b[1;33m\u001b[0m\u001b[0m\n\u001b[0;32m     14\u001b[0m   \u001b[0mprint\u001b[0m\u001b[1;33m(\u001b[0m\u001b[1;34m\"BMI is \"\u001b[0m \u001b[1;33m+\u001b[0m\u001b[0mbmiValue\u001b[0m\u001b[1;33m+\u001b[0m \u001b[1;34m\" -> Underweight\"\u001b[0m\u001b[1;33m)\u001b[0m\u001b[1;33m\u001b[0m\u001b[1;33m\u001b[0m\u001b[0m\n",
      "\u001b[1;31mTypeError\u001b[0m: can only concatenate str (not \"float\") to str"
     ]
    }
   ],
   "source": [
    "#TRIAL PIECE OF CODE......\n",
    "\n",
    "#TAKEPERSONALINPUTFIRST......\n",
    "name,age,gender,height,weight = takePersonalInput()\n",
    "#TAKEFOODCONSUMPTIONINPUT......\n",
    "milk, meat,lentils,vegetables,egg,rice = takeFoodConsumptionInput() \n",
    "\n",
    "bmiValue = getBMIValue(weight, height)\n",
    "totalCalories = calculateTotalCalories(milk,meat,lentils,vegetables,egg,rice)\n",
    "\n",
    "if(bmiValue<16):\n",
    "    print(\"BMI is \" +bmiValue+ \" -> Severely Underweight\")\n",
    "elif BMI>=16 and BMI<18.5:\n",
    "  print(\"BMI is \" +bmiValue+ \" -> Underweight\")\n",
    "elif BMI>=18.5 and BMI<25:\n",
    "  print(\"BMI is \" +bmiValue+ \" -> Healthy\")\n",
    "elif BMI>=25 and BMI<30:  \n",
    "  print(\"BMI is \" +bmiValue+ \" -> Overweight\")\n",
    "elif BMI>=30:\n",
    " print(\"BMI is \" +bmiValue+ \" -> Obese\")\n",
    "\n",
    "# undernourished or notundernourished\n",
    "if age>=0 and age<2:\n",
    "    if totalCalories>=800:\n",
    "        print('Person is not undernourished')\n",
    "    else:\n",
    "         print('Person is undernourished')\n",
    "elif age>=2 and age<4:\n",
    "    if totalCalories>=1400:\n",
    "         print('Person is not undernourished')\n",
    "    else:\n",
    "            print('Person is undernourished')\n",
    "elif age>=4 and age<8:\n",
    "    if totalCalories>=1800:\n",
    "         print('Person is not undernourished')\n",
    "    else:\n",
    "           print('Person is undernourished')\n",
    "            \n"
   ]
  }
 ],
 "metadata": {
  "kernelspec": {
   "display_name": "Python 3 (ipykernel)",
   "language": "python",
   "name": "python3"
  },
  "language_info": {
   "codemirror_mode": {
    "name": "ipython",
    "version": 3
   },
   "file_extension": ".py",
   "mimetype": "text/x-python",
   "name": "python",
   "nbconvert_exporter": "python",
   "pygments_lexer": "ipython3",
   "version": "3.9.7"
  }
 },
 "nbformat": 4,
 "nbformat_minor": 5
}
