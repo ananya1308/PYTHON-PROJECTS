{
 "cells": [
  {
   "cell_type": "code",
   "execution_count": 1,
   "id": "e779d723",
   "metadata": {},
   "outputs": [
    {
     "name": "stdout",
     "output_type": "stream",
     "text": [
      "name - Ananya Sahu\n",
      "age between 0-8 years - 6\n",
      "gender - Female\n",
      "height in inches - 45\n",
      "weight in pounds - 60\n"
     ]
    }
   ],
   "source": [
    "name = str(input('name - '))\n",
    "age = int(input('age between 0-8 years - '))\n",
    "gender = str(input('gender - '))\n",
    "height , weight = float(input('height in inches - ')) , float(input('weight in pounds - '))\n",
    "\n",
    "\n"
   ]
  },
  {
   "cell_type": "code",
   "execution_count": 2,
   "id": "862517dd",
   "metadata": {},
   "outputs": [
    {
     "name": "stdout",
     "output_type": "stream",
     "text": [
      "20.82962962962963\n",
      "Healthy\n"
     ]
    }
   ],
   "source": [
    "BMI = weight/(height**2)*703\n",
    "print(BMI)\n",
    "if BMI<16:\n",
    " health = \"Severlyunderweight\"\n",
    "elif BMI>=16 and BMI<18.5:\n",
    "  health = \"Underweight\"\n",
    "elif BMI>=18.5 and BMI<25:\n",
    "  health = \"Healthy\"\n",
    "elif BMI>=25 and BMI<30:  \n",
    "  health = \"Overweight\"\n",
    "elif BMI>=30:\n",
    "  health = \"Obese\"\n",
    "print(health)\n",
    "\n",
    "\n"
   ]
  },
  {
   "cell_type": "code",
   "execution_count": 3,
   "id": "33a6eb14",
   "metadata": {},
   "outputs": [
    {
     "name": "stdout",
     "output_type": "stream",
     "text": [
      "Amount of milk taken in gms - 300\n",
      "Amount of eggs taken in gms - 300\n",
      "Amount of rice taken in gms - 300\n",
      "Amount of lentils taken in gms - 100\n",
      "Amount of vegetables taken in gms - 300\n",
      "Amount of meat taken in gms - 200\n",
      "1809.0\n"
     ]
    }
   ],
   "source": [
    "Milk = 1\n",
    "Egg = 1.55 \n",
    "Rice = 1.30\n",
    "Lentils = 1.13 \n",
    "Vegetable = 0.85\n",
    "Meat = 1.43 \n",
    "#Calorie consumption...\n",
    "Milk_taken = int(input('Amount of milk taken in gms - '))\n",
    "Egg_taken = int(input('Amount of eggs taken in gms - '))\n",
    "Rice_taken = int(input('Amount of rice taken in gms - '))\n",
    "Lentils_taken = int(input('Amount of lentils taken in gms - '))\n",
    "Vegetable_taken = int(input('Amount of vegetables taken in gms - '))\n",
    "Meat_taken = int(input('Amount of meat taken in gms - '))\n",
    "#Total calorie consumption...\n",
    "Total_cal = Milk_taken*Milk+Egg_taken*Egg+Rice_taken*Rice+Lentils_taken*Lentils+Vegetable_taken*Vegetable+Meat_taken*Meat\n",
    "print(Total_cal)\n",
    "\n",
    "\n"
   ]
  },
  {
   "cell_type": "code",
   "execution_count": 4,
   "id": "ba3feea4",
   "metadata": {},
   "outputs": [],
   "source": [
    "if age>0 and age<2:\n",
    "    if Total_cal>=800:\n",
    "        nourishment = 'not undernourished'\n",
    "    else:\n",
    "            nourishment = 'undernourished'\n",
    "elif age>2 and age<4:\n",
    "    if Total_cal>=1400:\n",
    "        nourishment = 'not undernourished'\n",
    "    else:\n",
    "            nourishment = 'undernourished'\n",
    "elif age>4 and age<8:\n",
    "    if Total_cal>=1800:\n",
    "        nourishment = 'not undernourished'\n",
    "    else:\n",
    "            nourishment = 'undernourished'\n",
    "            \n",
    "            \n"
   ]
  },
  {
   "cell_type": "code",
   "execution_count": 5,
   "id": "953c6faf",
   "metadata": {},
   "outputs": [
    {
     "name": "stdout",
     "output_type": "stream",
     "text": [
      "BMI of Ananya Sahu is 20.83 and he/she is Healthy.\n",
      "The daily calorie consumption of Ananya Sahu is 1809.0 and he/she is not undernourished.\n"
     ]
    }
   ],
   "source": [
    "if gender.lower() == 'Male':\n",
    "    print('BMI of ' +name+ ' is ' + \"{:.2f}\".format(BMI)+ ' and he is ' +health+ '.')\n",
    "    print('The daily calorie consumption of ' +name+ ' is ' +str(Total_cal)+ ' and he is ' +nourishment+ '.')\n",
    "elif gender.lower() == 'Female':\n",
    "    print('BMI of ' +name+ ' is ' + '{:.2f}'.format(BMI)+ ' and she is ' +health+ '.')\n",
    "    print('The daily calorie consumption of ' +name+ ' is ' +str(Total_cal)+ ' and she is ' +nourishment+ '.')\n",
    "else:\n",
    "    print('BMI of ' +name+ ' is ' + '{:.2f}'.format(BMI)+ ' and he/she is ' +health+ '.')\n",
    "    print('The daily calorie consumption of ' +name+ ' is ' +str(Total_cal)+ ' and he/she is ' +nourishment+ '.')\n"
   ]
  }
 ],
 "metadata": {
  "kernelspec": {
   "display_name": "Python 3 (ipykernel)",
   "language": "python",
   "name": "python3"
  },
  "language_info": {
   "codemirror_mode": {
    "name": "ipython",
    "version": 3
   },
   "file_extension": ".py",
   "mimetype": "text/x-python",
   "name": "python",
   "nbconvert_exporter": "python",
   "pygments_lexer": "ipython3",
   "version": "3.9.7"
  }
 },
 "nbformat": 4,
 "nbformat_minor": 5
}
